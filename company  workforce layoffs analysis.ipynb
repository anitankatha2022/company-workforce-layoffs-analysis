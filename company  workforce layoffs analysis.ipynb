{
 "cells": [
  {
   "cell_type": "markdown",
   "id": "a14fe6cc",
   "metadata": {},
   "source": [
    "# Importing modules"
   ]
  },
  {
   "cell_type": "code",
   "execution_count": 9,
   "id": "cc186451",
   "metadata": {},
   "outputs": [],
   "source": [
    "import numpy as np \n",
    "import pandas as pd \n",
    "import matplotlib.pyplot as plt\n",
    "import seaborn as sns \n",
    "import plotly.express as px"
   ]
  },
  {
   "cell_type": "markdown",
   "id": "1611401c",
   "metadata": {},
   "source": [
    "# Loading dataset"
   ]
  },
  {
   "cell_type": "code",
   "execution_count": 10,
   "id": "d250ebef",
   "metadata": {},
   "outputs": [
    {
     "data": {
      "text/html": [
       "<div>\n",
       "<style scoped>\n",
       "    .dataframe tbody tr th:only-of-type {\n",
       "        vertical-align: middle;\n",
       "    }\n",
       "\n",
       "    .dataframe tbody tr th {\n",
       "        vertical-align: top;\n",
       "    }\n",
       "\n",
       "    .dataframe thead th {\n",
       "        text-align: right;\n",
       "    }\n",
       "</style>\n",
       "<table border=\"1\" class=\"dataframe\">\n",
       "  <thead>\n",
       "    <tr style=\"text-align: right;\">\n",
       "      <th></th>\n",
       "      <th>company</th>\n",
       "      <th>total_layoffs</th>\n",
       "      <th>impacted_workforce_percentage</th>\n",
       "      <th>reported_date</th>\n",
       "      <th>industry</th>\n",
       "      <th>headquarter_location</th>\n",
       "      <th>sources</th>\n",
       "      <th>status</th>\n",
       "      <th>additional_notes</th>\n",
       "    </tr>\n",
       "  </thead>\n",
       "  <tbody>\n",
       "    <tr>\n",
       "      <th>0</th>\n",
       "      <td>C2FO</td>\n",
       "      <td>20</td>\n",
       "      <td>2</td>\n",
       "      <td>12/9/2022</td>\n",
       "      <td>Fintech, payments</td>\n",
       "      <td>Leawood, KS</td>\n",
       "      <td>Kansas City Business Journal</td>\n",
       "      <td>Private</td>\n",
       "      <td>NaN</td>\n",
       "    </tr>\n",
       "    <tr>\n",
       "      <th>1</th>\n",
       "      <td>VideoAmp</td>\n",
       "      <td>Unclear</td>\n",
       "      <td>2</td>\n",
       "      <td>9/19/2022</td>\n",
       "      <td>Advertising platforms</td>\n",
       "      <td>Los Angeles</td>\n",
       "      <td>Company memo</td>\n",
       "      <td>Private</td>\n",
       "      <td>NaN</td>\n",
       "    </tr>\n",
       "    <tr>\n",
       "      <th>2</th>\n",
       "      <td>Amperity</td>\n",
       "      <td>13</td>\n",
       "      <td>3</td>\n",
       "      <td>8/20/2022</td>\n",
       "      <td>Saas, analytics</td>\n",
       "      <td>Seattle</td>\n",
       "      <td>Geekwire</td>\n",
       "      <td>Private</td>\n",
       "      <td>NaN</td>\n",
       "    </tr>\n",
       "    <tr>\n",
       "      <th>3</th>\n",
       "      <td>Addepar</td>\n",
       "      <td>20</td>\n",
       "      <td>3</td>\n",
       "      <td>1/18/2023</td>\n",
       "      <td>fintech, data analytics</td>\n",
       "      <td>Mountain View, CA</td>\n",
       "      <td>Fortune</td>\n",
       "      <td>Private</td>\n",
       "      <td>NaN</td>\n",
       "    </tr>\n",
       "    <tr>\n",
       "      <th>4</th>\n",
       "      <td>Thirty Madison</td>\n",
       "      <td>24</td>\n",
       "      <td>3</td>\n",
       "      <td>5/13/2022</td>\n",
       "      <td>Health Care</td>\n",
       "      <td>New York</td>\n",
       "      <td>Axios</td>\n",
       "      <td>Private</td>\n",
       "      <td>Per Axios, 22 of the employees laid off were f...</td>\n",
       "    </tr>\n",
       "  </tbody>\n",
       "</table>\n",
       "</div>"
      ],
      "text/plain": [
       "          company total_layoffs impacted_workforce_percentage reported_date  \\\n",
       "0            C2FO            20                             2     12/9/2022   \n",
       "1        VideoAmp       Unclear                             2     9/19/2022   \n",
       "2        Amperity            13                             3     8/20/2022   \n",
       "3         Addepar            20                             3     1/18/2023   \n",
       "4  Thirty Madison            24                             3     5/13/2022   \n",
       "\n",
       "                  industry headquarter_location                       sources  \\\n",
       "0        Fintech, payments          Leawood, KS  Kansas City Business Journal   \n",
       "1    Advertising platforms          Los Angeles                  Company memo   \n",
       "2          Saas, analytics              Seattle                      Geekwire   \n",
       "3  fintech, data analytics    Mountain View, CA                       Fortune   \n",
       "4              Health Care             New York                         Axios   \n",
       "\n",
       "    status                                   additional_notes  \n",
       "0  Private                                                NaN  \n",
       "1  Private                                                NaN  \n",
       "2  Private                                                NaN  \n",
       "3  Private                                                NaN  \n",
       "4  Private  Per Axios, 22 of the employees laid off were f...  "
      ]
     },
     "execution_count": 10,
     "metadata": {},
     "output_type": "execute_result"
    }
   ],
   "source": [
    "data=pd.read_csv('C:\\\\Users\\\\USER\\\\Desktop\\\\IMGA\\\\tech_layoffs.csv')\n",
    "data.head(5)"
   ]
  },
  {
   "cell_type": "code",
   "execution_count": 11,
   "id": "40326e97",
   "metadata": {},
   "outputs": [
    {
     "data": {
      "text/html": [
       "<div>\n",
       "<style scoped>\n",
       "    .dataframe tbody tr th:only-of-type {\n",
       "        vertical-align: middle;\n",
       "    }\n",
       "\n",
       "    .dataframe tbody tr th {\n",
       "        vertical-align: top;\n",
       "    }\n",
       "\n",
       "    .dataframe thead th {\n",
       "        text-align: right;\n",
       "    }\n",
       "</style>\n",
       "<table border=\"1\" class=\"dataframe\">\n",
       "  <thead>\n",
       "    <tr style=\"text-align: right;\">\n",
       "      <th></th>\n",
       "      <th>company</th>\n",
       "      <th>total_layoffs</th>\n",
       "      <th>impacted_workforce_percentage</th>\n",
       "      <th>reported_date</th>\n",
       "      <th>industry</th>\n",
       "      <th>headquarter_location</th>\n",
       "      <th>sources</th>\n",
       "      <th>status</th>\n",
       "      <th>additional_notes</th>\n",
       "    </tr>\n",
       "  </thead>\n",
       "  <tbody>\n",
       "    <tr>\n",
       "      <th>count</th>\n",
       "      <td>489</td>\n",
       "      <td>489</td>\n",
       "      <td>489</td>\n",
       "      <td>489</td>\n",
       "      <td>489</td>\n",
       "      <td>489</td>\n",
       "      <td>489</td>\n",
       "      <td>489</td>\n",
       "      <td>22</td>\n",
       "    </tr>\n",
       "    <tr>\n",
       "      <th>unique</th>\n",
       "      <td>477</td>\n",
       "      <td>150</td>\n",
       "      <td>50</td>\n",
       "      <td>187</td>\n",
       "      <td>289</td>\n",
       "      <td>134</td>\n",
       "      <td>221</td>\n",
       "      <td>2</td>\n",
       "      <td>22</td>\n",
       "    </tr>\n",
       "    <tr>\n",
       "      <th>top</th>\n",
       "      <td>DataRobot</td>\n",
       "      <td>Unclear</td>\n",
       "      <td>Unclear</td>\n",
       "      <td>1/11/2023</td>\n",
       "      <td>Fintech</td>\n",
       "      <td>San Francisco</td>\n",
       "      <td>TechCrunch</td>\n",
       "      <td>Private</td>\n",
       "      <td>Per Axios, 22 of the employees laid off were f...</td>\n",
       "    </tr>\n",
       "    <tr>\n",
       "      <th>freq</th>\n",
       "      <td>2</td>\n",
       "      <td>182</td>\n",
       "      <td>133</td>\n",
       "      <td>12</td>\n",
       "      <td>24</td>\n",
       "      <td>136</td>\n",
       "      <td>52</td>\n",
       "      <td>370</td>\n",
       "      <td>1</td>\n",
       "    </tr>\n",
       "  </tbody>\n",
       "</table>\n",
       "</div>"
      ],
      "text/plain": [
       "          company total_layoffs impacted_workforce_percentage reported_date  \\\n",
       "count         489           489                           489           489   \n",
       "unique        477           150                            50           187   \n",
       "top     DataRobot       Unclear                       Unclear     1/11/2023   \n",
       "freq            2           182                           133            12   \n",
       "\n",
       "       industry headquarter_location     sources   status  \\\n",
       "count       489                  489         489      489   \n",
       "unique      289                  134         221        2   \n",
       "top     Fintech        San Francisco  TechCrunch  Private   \n",
       "freq         24                  136          52      370   \n",
       "\n",
       "                                         additional_notes  \n",
       "count                                                  22  \n",
       "unique                                                 22  \n",
       "top     Per Axios, 22 of the employees laid off were f...  \n",
       "freq                                                    1  "
      ]
     },
     "execution_count": 11,
     "metadata": {},
     "output_type": "execute_result"
    }
   ],
   "source": [
    "data.describe()"
   ]
  },
  {
   "cell_type": "code",
   "execution_count": 12,
   "id": "c288bdc4",
   "metadata": {},
   "outputs": [
    {
     "name": "stdout",
     "output_type": "stream",
     "text": [
      "<class 'pandas.core.frame.DataFrame'>\n",
      "RangeIndex: 489 entries, 0 to 488\n",
      "Data columns (total 9 columns):\n",
      " #   Column                         Non-Null Count  Dtype \n",
      "---  ------                         --------------  ----- \n",
      " 0   company                        489 non-null    object\n",
      " 1   total_layoffs                  489 non-null    object\n",
      " 2   impacted_workforce_percentage  489 non-null    object\n",
      " 3   reported_date                  489 non-null    object\n",
      " 4   industry                       489 non-null    object\n",
      " 5   headquarter_location           489 non-null    object\n",
      " 6   sources                        489 non-null    object\n",
      " 7   status                         489 non-null    object\n",
      " 8   additional_notes               22 non-null     object\n",
      "dtypes: object(9)\n",
      "memory usage: 34.5+ KB\n"
     ]
    }
   ],
   "source": [
    "data.info()"
   ]
  },
  {
   "cell_type": "code",
   "execution_count": 14,
   "id": "0c1025e3",
   "metadata": {},
   "outputs": [
    {
     "data": {
      "text/plain": [
       "company                            0\n",
       "total_layoffs                      0\n",
       "impacted_workforce_percentage      0\n",
       "reported_date                      0\n",
       "industry                           0\n",
       "headquarter_location               0\n",
       "sources                            0\n",
       "status                             0\n",
       "additional_notes                 467\n",
       "dtype: int64"
      ]
     },
     "execution_count": 14,
     "metadata": {},
     "output_type": "execute_result"
    }
   ],
   "source": [
    "data.isnull().sum()"
   ]
  },
  {
   "cell_type": "code",
   "execution_count": 15,
   "id": "c96712fa",
   "metadata": {},
   "outputs": [
    {
     "name": "stdout",
     "output_type": "stream",
     "text": [
      "<class 'pandas.core.frame.DataFrame'>\n",
      "RangeIndex: 489 entries, 0 to 488\n",
      "Data columns (total 8 columns):\n",
      " #   Column                         Non-Null Count  Dtype \n",
      "---  ------                         --------------  ----- \n",
      " 0   company                        489 non-null    object\n",
      " 1   total_layoffs                  489 non-null    object\n",
      " 2   impacted_workforce_percentage  489 non-null    object\n",
      " 3   reported_date                  489 non-null    object\n",
      " 4   industry                       489 non-null    object\n",
      " 5   headquarter_location           489 non-null    object\n",
      " 6   sources                        489 non-null    object\n",
      " 7   status                         489 non-null    object\n",
      "dtypes: object(8)\n",
      "memory usage: 30.7+ KB\n"
     ]
    }
   ],
   "source": [
    "#lets look into additional_notes column to explore more \n",
    "data['additional_notes']\n",
    "data.drop(['additional_notes'], axis = 1, inplace = True)\n",
    "data.info()"
   ]
  },
  {
   "cell_type": "code",
   "execution_count": 16,
   "id": "fb327aff",
   "metadata": {},
   "outputs": [
    {
     "data": {
      "text/html": [
       "<div>\n",
       "<style scoped>\n",
       "    .dataframe tbody tr th:only-of-type {\n",
       "        vertical-align: middle;\n",
       "    }\n",
       "\n",
       "    .dataframe tbody tr th {\n",
       "        vertical-align: top;\n",
       "    }\n",
       "\n",
       "    .dataframe thead th {\n",
       "        text-align: right;\n",
       "    }\n",
       "</style>\n",
       "<table border=\"1\" class=\"dataframe\">\n",
       "  <thead>\n",
       "    <tr style=\"text-align: right;\">\n",
       "      <th></th>\n",
       "      <th>company</th>\n",
       "      <th>total_layoffs</th>\n",
       "      <th>impacted_workforce_percentage</th>\n",
       "      <th>reported_date</th>\n",
       "      <th>industry</th>\n",
       "      <th>headquarter_location</th>\n",
       "      <th>sources</th>\n",
       "      <th>status</th>\n",
       "    </tr>\n",
       "  </thead>\n",
       "  <tbody>\n",
       "    <tr>\n",
       "      <th>484</th>\n",
       "      <td>Salesforce</td>\n",
       "      <td>9090</td>\n",
       "      <td>0</td>\n",
       "      <td>1/4/2023</td>\n",
       "      <td>enterprise tech, analytics</td>\n",
       "      <td>San Francisco</td>\n",
       "      <td>New York Times</td>\n",
       "      <td>Public</td>\n",
       "    </tr>\n",
       "    <tr>\n",
       "      <th>485</th>\n",
       "      <td>Oracle</td>\n",
       "      <td>0</td>\n",
       "      <td>0</td>\n",
       "      <td>8/1/2022</td>\n",
       "      <td>SaaS, enterprise software</td>\n",
       "      <td>Austin</td>\n",
       "      <td>The Information</td>\n",
       "      <td>Public</td>\n",
       "    </tr>\n",
       "    <tr>\n",
       "      <th>486</th>\n",
       "      <td>LivePerson</td>\n",
       "      <td>0</td>\n",
       "      <td>0</td>\n",
       "      <td>9/15/2022</td>\n",
       "      <td>Customer service</td>\n",
       "      <td>New York</td>\n",
       "      <td>LinkedIn</td>\n",
       "      <td>Public</td>\n",
       "    </tr>\n",
       "    <tr>\n",
       "      <th>487</th>\n",
       "      <td>Skillz</td>\n",
       "      <td>0</td>\n",
       "      <td>0</td>\n",
       "      <td>8/29/2022</td>\n",
       "      <td>Mobile Apps, Gaming</td>\n",
       "      <td>San Francisco</td>\n",
       "      <td>Seeking Alpha</td>\n",
       "      <td>Public</td>\n",
       "    </tr>\n",
       "    <tr>\n",
       "      <th>488</th>\n",
       "      <td>Blueboard</td>\n",
       "      <td>0</td>\n",
       "      <td>0</td>\n",
       "      <td>11/3/2022</td>\n",
       "      <td>Enterprise Software</td>\n",
       "      <td>San Francisco</td>\n",
       "      <td>LinkedIn reports</td>\n",
       "      <td>Private</td>\n",
       "    </tr>\n",
       "  </tbody>\n",
       "</table>\n",
       "</div>"
      ],
      "text/plain": [
       "        company total_layoffs impacted_workforce_percentage reported_date  \\\n",
       "484  Salesforce          9090                             0      1/4/2023   \n",
       "485      Oracle             0                             0      8/1/2022   \n",
       "486  LivePerson             0                             0     9/15/2022   \n",
       "487      Skillz             0                             0     8/29/2022   \n",
       "488   Blueboard             0                             0     11/3/2022   \n",
       "\n",
       "                       industry headquarter_location           sources  \\\n",
       "484  enterprise tech, analytics        San Francisco    New York Times   \n",
       "485   SaaS, enterprise software               Austin   The Information   \n",
       "486            Customer service             New York          LinkedIn   \n",
       "487         Mobile Apps, Gaming        San Francisco     Seeking Alpha   \n",
       "488         Enterprise Software        San Francisco  LinkedIn reports   \n",
       "\n",
       "      status  \n",
       "484   Public  \n",
       "485   Public  \n",
       "486   Public  \n",
       "487   Public  \n",
       "488  Private  "
      ]
     },
     "execution_count": 16,
     "metadata": {},
     "output_type": "execute_result"
    }
   ],
   "source": [
    "data['total_layoffs'] =data['total_layoffs'].str.replace('Unclear','0')\n",
    "data['impacted_workforce_percentage'] =data['impacted_workforce_percentage'].str.replace('Unclear','0')\n",
    "data.tail()"
   ]
  },
  {
   "cell_type": "code",
   "execution_count": 17,
   "id": "79ffafd2",
   "metadata": {},
   "outputs": [
    {
     "data": {
      "text/plain": [
       "289"
      ]
     },
     "execution_count": 17,
     "metadata": {},
     "output_type": "execute_result"
    }
   ],
   "source": [
    "#lets check unique values\n",
    "data['industry'].nunique()"
   ]
  },
  {
   "cell_type": "code",
   "execution_count": 18,
   "id": "6c1f665d",
   "metadata": {},
   "outputs": [
    {
     "name": "stdout",
     "output_type": "stream",
     "text": [
      "<class 'pandas.core.frame.DataFrame'>\n",
      "RangeIndex: 489 entries, 0 to 488\n",
      "Data columns (total 11 columns):\n",
      " #   Column                         Non-Null Count  Dtype         \n",
      "---  ------                         --------------  -----         \n",
      " 0   company                        489 non-null    object        \n",
      " 1   total_layoffs                  489 non-null    object        \n",
      " 2   impacted_workforce_percentage  489 non-null    object        \n",
      " 3   reported_date                  489 non-null    object        \n",
      " 4   industry                       489 non-null    object        \n",
      " 5   headquarter_location           489 non-null    object        \n",
      " 6   sources                        489 non-null    object        \n",
      " 7   status                         489 non-null    object        \n",
      " 8   Date                           489 non-null    datetime64[ns]\n",
      " 9   Month                          489 non-null    int64         \n",
      " 10  Year                           489 non-null    object        \n",
      "dtypes: datetime64[ns](1), int64(1), object(9)\n",
      "memory usage: 42.1+ KB\n"
     ]
    }
   ],
   "source": [
    "data['Date'] = pd.to_datetime(data['reported_date'])\n",
    "data['Month'] = data['Date'].dt.month\n",
    "data['Year'] = pd.to_datetime(data['Date']).dt.strftime('%Y')\n",
    "data.head()\n",
    "data.info()"
   ]
  },
  {
   "cell_type": "code",
   "execution_count": 19,
   "id": "9a62cf91",
   "metadata": {},
   "outputs": [
    {
     "data": {
      "text/html": [
       "<div>\n",
       "<style scoped>\n",
       "    .dataframe tbody tr th:only-of-type {\n",
       "        vertical-align: middle;\n",
       "    }\n",
       "\n",
       "    .dataframe tbody tr th {\n",
       "        vertical-align: top;\n",
       "    }\n",
       "\n",
       "    .dataframe thead th {\n",
       "        text-align: right;\n",
       "    }\n",
       "</style>\n",
       "<table border=\"1\" class=\"dataframe\">\n",
       "  <thead>\n",
       "    <tr style=\"text-align: right;\">\n",
       "      <th></th>\n",
       "      <th>company</th>\n",
       "      <th>total_layoffs</th>\n",
       "      <th>impacted_workforce_percentage</th>\n",
       "      <th>industry</th>\n",
       "      <th>headquarter_location</th>\n",
       "      <th>sources</th>\n",
       "      <th>status</th>\n",
       "      <th>Date</th>\n",
       "      <th>Month</th>\n",
       "      <th>Year</th>\n",
       "    </tr>\n",
       "  </thead>\n",
       "  <tbody>\n",
       "    <tr>\n",
       "      <th>0</th>\n",
       "      <td>C2FO</td>\n",
       "      <td>20</td>\n",
       "      <td>2</td>\n",
       "      <td>Fintech, payments</td>\n",
       "      <td>Leawood, KS</td>\n",
       "      <td>Kansas City Business Journal</td>\n",
       "      <td>Private</td>\n",
       "      <td>2022-12-09</td>\n",
       "      <td>12</td>\n",
       "      <td>2022</td>\n",
       "    </tr>\n",
       "    <tr>\n",
       "      <th>1</th>\n",
       "      <td>VideoAmp</td>\n",
       "      <td>0</td>\n",
       "      <td>2</td>\n",
       "      <td>Advertising platforms</td>\n",
       "      <td>Los Angeles</td>\n",
       "      <td>Company memo</td>\n",
       "      <td>Private</td>\n",
       "      <td>2022-09-19</td>\n",
       "      <td>9</td>\n",
       "      <td>2022</td>\n",
       "    </tr>\n",
       "    <tr>\n",
       "      <th>2</th>\n",
       "      <td>Amperity</td>\n",
       "      <td>13</td>\n",
       "      <td>3</td>\n",
       "      <td>Saas, analytics</td>\n",
       "      <td>Seattle</td>\n",
       "      <td>Geekwire</td>\n",
       "      <td>Private</td>\n",
       "      <td>2022-08-20</td>\n",
       "      <td>8</td>\n",
       "      <td>2022</td>\n",
       "    </tr>\n",
       "    <tr>\n",
       "      <th>3</th>\n",
       "      <td>Addepar</td>\n",
       "      <td>20</td>\n",
       "      <td>3</td>\n",
       "      <td>fintech, data analytics</td>\n",
       "      <td>Mountain View, CA</td>\n",
       "      <td>Fortune</td>\n",
       "      <td>Private</td>\n",
       "      <td>2023-01-18</td>\n",
       "      <td>1</td>\n",
       "      <td>2023</td>\n",
       "    </tr>\n",
       "    <tr>\n",
       "      <th>4</th>\n",
       "      <td>Thirty Madison</td>\n",
       "      <td>24</td>\n",
       "      <td>3</td>\n",
       "      <td>Health Care</td>\n",
       "      <td>New York</td>\n",
       "      <td>Axios</td>\n",
       "      <td>Private</td>\n",
       "      <td>2022-05-13</td>\n",
       "      <td>5</td>\n",
       "      <td>2022</td>\n",
       "    </tr>\n",
       "  </tbody>\n",
       "</table>\n",
       "</div>"
      ],
      "text/plain": [
       "          company total_layoffs impacted_workforce_percentage  \\\n",
       "0            C2FO            20                             2   \n",
       "1        VideoAmp             0                             2   \n",
       "2        Amperity            13                             3   \n",
       "3         Addepar            20                             3   \n",
       "4  Thirty Madison            24                             3   \n",
       "\n",
       "                  industry headquarter_location                       sources  \\\n",
       "0        Fintech, payments          Leawood, KS  Kansas City Business Journal   \n",
       "1    Advertising platforms          Los Angeles                  Company memo   \n",
       "2          Saas, analytics              Seattle                      Geekwire   \n",
       "3  fintech, data analytics    Mountain View, CA                       Fortune   \n",
       "4              Health Care             New York                         Axios   \n",
       "\n",
       "    status       Date  Month  Year  \n",
       "0  Private 2022-12-09     12  2022  \n",
       "1  Private 2022-09-19      9  2022  \n",
       "2  Private 2022-08-20      8  2022  \n",
       "3  Private 2023-01-18      1  2023  \n",
       "4  Private 2022-05-13      5  2022  "
      ]
     },
     "execution_count": 19,
     "metadata": {},
     "output_type": "execute_result"
    }
   ],
   "source": [
    "#we can drop reported date, becacsue it is irrelevant now\n",
    "data.drop(['reported_date'], axis = 1, inplace = True)\n",
    "data.head()"
   ]
  },
  {
   "cell_type": "code",
   "execution_count": 20,
   "id": "3de45b42",
   "metadata": {},
   "outputs": [],
   "source": [
    "#lets change the datatype of total_layoffs, impacted_workforce_percentage into float and year into int\n",
    "data[['total_layoffs', 'impacted_workforce_percentage']] = data[['total_layoffs', 'impacted_workforce_percentage']].astype('float')\n",
    "data[['Year']] = data[['Year']].astype('int')"
   ]
  },
  {
   "cell_type": "code",
   "execution_count": 21,
   "id": "41d0a9ec",
   "metadata": {},
   "outputs": [
    {
     "name": "stdout",
     "output_type": "stream",
     "text": [
      "<class 'pandas.core.frame.DataFrame'>\n",
      "RangeIndex: 489 entries, 0 to 488\n",
      "Data columns (total 10 columns):\n",
      " #   Column                         Non-Null Count  Dtype         \n",
      "---  ------                         --------------  -----         \n",
      " 0   company                        489 non-null    object        \n",
      " 1   total_layoffs                  489 non-null    float64       \n",
      " 2   impacted_workforce_percentage  489 non-null    float64       \n",
      " 3   industry                       489 non-null    object        \n",
      " 4   headquarter_location           489 non-null    object        \n",
      " 5   sources                        489 non-null    object        \n",
      " 6   status                         489 non-null    object        \n",
      " 7   Date                           489 non-null    datetime64[ns]\n",
      " 8   Month                          489 non-null    int64         \n",
      " 9   Year                           489 non-null    int32         \n",
      "dtypes: datetime64[ns](1), float64(2), int32(1), int64(1), object(5)\n",
      "memory usage: 36.4+ KB\n"
     ]
    }
   ],
   "source": [
    "data.info()"
   ]
  },
  {
   "cell_type": "code",
   "execution_count": 23,
   "id": "8d703ea9",
   "metadata": {},
   "outputs": [
    {
     "data": {
      "text/plain": [
       "status   Year\n",
       "Private  2022    323\n",
       "         2023     47\n",
       "Public   2022     85\n",
       "         2023     34\n",
       "Name: total_layoffs, dtype: int64"
      ]
     },
     "execution_count": 23,
     "metadata": {},
     "output_type": "execute_result"
    }
   ],
   "source": [
    "#lets check the total numberof employees laid of by private aand public companies in each month \n",
    "\n",
    "data.groupby(['status', 'Month'])['total_layoffs'].count()\n",
    "data.groupby(['status', 'Year'])['total_layoffs'].count()"
   ]
  },
  {
   "cell_type": "code",
   "execution_count": 24,
   "id": "34fd25ca",
   "metadata": {},
   "outputs": [
    {
     "data": {
      "text/plain": [
       "headquarter_location  Year\n",
       "San Francisco         2022    116\n",
       "New York              2022     66\n",
       "San Francisco         2023     20\n",
       "Seattle               2022     18\n",
       "Los Angeles           2022     18\n",
       "                             ... \n",
       "Healdsburg, CA        2022      1\n",
       "Hayward, California   2022      1\n",
       "Hayward, CA           2022      1\n",
       "Hamilton, OH          2023      1\n",
       "Wilmington, NC        2023      1\n",
       "Name: total_layoffs, Length: 153, dtype: int64"
      ]
     },
     "execution_count": 24,
     "metadata": {},
     "output_type": "execute_result"
    }
   ],
   "source": [
    "#lets check the most effected locations \n",
    "data.groupby(['headquarter_location', 'Year'])['total_layoffs'].count().sort_values(ascending =False)"
   ]
  },
  {
   "cell_type": "code",
   "execution_count": 39,
   "id": "9fe1f9a0",
   "metadata": {},
   "outputs": [
    {
     "data": {
      "text/html": [
       "<div>\n",
       "<style scoped>\n",
       "    .dataframe tbody tr th:only-of-type {\n",
       "        vertical-align: middle;\n",
       "    }\n",
       "\n",
       "    .dataframe tbody tr th {\n",
       "        vertical-align: top;\n",
       "    }\n",
       "\n",
       "    .dataframe thead th {\n",
       "        text-align: right;\n",
       "    }\n",
       "</style>\n",
       "<table border=\"1\" class=\"dataframe\">\n",
       "  <thead>\n",
       "    <tr style=\"text-align: right;\">\n",
       "      <th></th>\n",
       "      <th>total_layoffs</th>\n",
       "      <th>impacted_workforce_percentage</th>\n",
       "      <th>Month</th>\n",
       "      <th>Year</th>\n",
       "    </tr>\n",
       "  </thead>\n",
       "  <tbody>\n",
       "    <tr>\n",
       "      <th>total_layoffs</th>\n",
       "      <td>1.000000</td>\n",
       "      <td>-0.368933</td>\n",
       "      <td>-0.288913</td>\n",
       "      <td>0.371768</td>\n",
       "    </tr>\n",
       "    <tr>\n",
       "      <th>impacted_workforce_percentage</th>\n",
       "      <td>-0.368933</td>\n",
       "      <td>1.000000</td>\n",
       "      <td>-0.124781</td>\n",
       "      <td>-0.093375</td>\n",
       "    </tr>\n",
       "    <tr>\n",
       "      <th>Month</th>\n",
       "      <td>-0.288913</td>\n",
       "      <td>-0.124781</td>\n",
       "      <td>1.000000</td>\n",
       "      <td>-0.904855</td>\n",
       "    </tr>\n",
       "    <tr>\n",
       "      <th>Year</th>\n",
       "      <td>0.371768</td>\n",
       "      <td>-0.093375</td>\n",
       "      <td>-0.904855</td>\n",
       "      <td>1.000000</td>\n",
       "    </tr>\n",
       "  </tbody>\n",
       "</table>\n",
       "</div>"
      ],
      "text/plain": [
       "                               total_layoffs  impacted_workforce_percentage  \\\n",
       "total_layoffs                       1.000000                      -0.368933   \n",
       "impacted_workforce_percentage      -0.368933                       1.000000   \n",
       "Month                              -0.288913                      -0.124781   \n",
       "Year                                0.371768                      -0.093375   \n",
       "\n",
       "                                  Month      Year  \n",
       "total_layoffs                 -0.288913  0.371768  \n",
       "impacted_workforce_percentage -0.124781 -0.093375  \n",
       "Month                          1.000000 -0.904855  \n",
       "Year                          -0.904855  1.000000  "
      ]
     },
     "execution_count": 39,
     "metadata": {},
     "output_type": "execute_result"
    }
   ],
   "source": [
    "data.corr()"
   ]
  },
  {
   "cell_type": "code",
   "execution_count": 40,
   "id": "446d7249",
   "metadata": {},
   "outputs": [
    {
     "data": {
      "text/plain": [
       "<AxesSubplot:>"
      ]
     },
     "execution_count": 40,
     "metadata": {},
     "output_type": "execute_result"
    },
    {
     "data": {
      "image/png": "[encoded data removed]",
      "text/plain": [
       "<Figure size 432x288 with 2 Axes>"
      ]
     },
     "metadata": {
      "needs_background": "light"
     },
     "output_type": "display_data"
    }
   ],
   "source": [
    "sns.heatmap(data.corr(),annot=True,cmap='crest')"
   ]
  },
  {
   "cell_type": "code",
   "execution_count": 41,
   "id": "ab72bb51",
   "metadata": {},
   "outputs": [
    {
     "data": {
      "text/plain": [
       "<AxesSubplot:xlabel='company', ylabel='total_layoffs'>"
      ]
     },
     "execution_count": 41,
     "metadata": {},
     "output_type": "execute_result"
    },
    {
     "data": {
      "image/png": "[encoded data removed]",
      "text/plain": [
       "<Figure size 1080x720 with 1 Axes>"
      ]
     },
     "metadata": {
      "needs_background": "light"
     },
     "output_type": "display_data"
    }
   ],
   "source": [
    "# barplot of the top 10 companies with the highest number of layoffs\n",
    "plt.figure(figsize=(15,10))\n",
    "sns.barplot(y='total_layoffs', x='company', data=data.sort_values('total_layoffs', ascending = False).head(10), palette = 'Set1')"
   ]
  },
  {
   "cell_type": "code",
   "execution_count": null,
   "id": "056ecaf0",
   "metadata": {},
   "outputs": [],
   "source": []
  },
  {
   "cell_type": "code",
   "execution_count": null,
   "id": "abb5271c",
   "metadata": {},
   "outputs": [],
   "source": []
  },
  {
   "cell_type": "code",
   "execution_count": null,
   "id": "14fc63df",
   "metadata": {},
   "outputs": [],
   "source": []
  },
  {
   "cell_type": "code",
   "execution_count": null,
   "id": "a3cc655f",
   "metadata": {},
   "outputs": [],
   "source": []
  },
  {
   "cell_type": "code",
   "execution_count": null,
   "id": "93d571e2",
   "metadata": {},
   "outputs": [],
   "source": []
  },
  {
   "cell_type": "code",
   "execution_count": null,
   "id": "26e3673f",
   "metadata": {},
   "outputs": [],
   "source": []
  }
 ],
 "metadata": {
  "kernelspec": {
   "display_name": "Python 3 (ipykernel)",
   "language": "python",
   "name": "python3"
  },
  "language_info": {
   "codemirror_mode": {
    "name": "ipython",
    "version": 3
   },
   "file_extension": ".py",
   "mimetype": "text/x-python",
   "name": "python",
   "nbconvert_exporter": "python",
   "pygments_lexer": "ipython3",
   "version": "3.9.12"
  }
 },
 "nbformat": 4,
 "nbformat_minor": 5
}
